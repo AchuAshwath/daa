{
 "cells": [
  {
   "cell_type": "code",
   "execution_count": 2,
   "metadata": {},
   "outputs": [
    {
     "name": "stdout",
     "output_type": "stream",
     "text": [
      "Restricted license - for non-production use only - expires 2023-10-25\n"
     ]
    }
   ],
   "source": [
    "from gurobipy import *\n",
    "\n",
    "machines = ['M0','M1','M2','M3']\n",
    "jobs = ['J0','J1','J2','J3']\n",
    "\n",
    "I = range(len(machines))\n",
    "J = range(len(jobs))\n",
    "\n",
    "set_up_time = [\n",
    "    [14,5,8,7],\n",
    "    [2,12,6,5],\n",
    "    [7,8,3,9],\n",
    "    [2,4,6,10]\n",
    "]\n",
    "\n",
    "x ={}\n",
    "\n",
    "m = Model(\"Assignment Model\")"
   ]
  },
  {
   "cell_type": "code",
   "execution_count": 6,
   "metadata": {},
   "outputs": [],
   "source": [
    "for i in I:\n",
    "    for j in J:\n",
    "        x[i,j]=m.addVar(vtype=GRB.BINARY)\n",
    "m.setObjective(quicksum(set_up_time[i][j]*x[i,j]for i in I for j in J),GRB.MINIMIZE)"
   ]
  },
  {
   "cell_type": "code",
   "execution_count": 14,
   "metadata": {},
   "outputs": [
    {
     "name": "stdout",
     "output_type": "stream",
     "text": [
      "Gurobi Optimizer version 9.5.1 build v9.5.1rc2 (win64)\n",
      "Thread count: 4 physical cores, 8 logical processors, using up to 8 threads\n",
      "Optimize a model with 32 rows, 32 columns and 128 nonzeros\n",
      "Model fingerprint: 0x068a318e\n",
      "Variable types: 0 continuous, 32 integer (32 binary)\n",
      "Coefficient statistics:\n",
      "  Matrix range     [1e+00, 1e+00]\n",
      "  Objective range  [2e+00, 1e+01]\n",
      "  Bounds range     [1e+00, 1e+00]\n",
      "  RHS range        [1e+00, 1e+00]\n",
      "\n",
      "Loaded MIP start from previous solve with objective 15\n",
      "\n",
      "Presolve removed 24 rows and 16 columns\n",
      "Presolve time: 0.00s\n",
      "Presolved: 8 rows, 16 columns, 32 nonzeros\n",
      "Variable types: 0 continuous, 16 integer (16 binary)\n",
      "\n",
      "Root relaxation: cutoff, 5 iterations, 0.00 seconds (0.00 work units)\n",
      "\n",
      "    Nodes    |    Current Node    |     Objective Bounds      |     Work\n",
      " Expl Unexpl |  Obj  Depth IntInf | Incumbent    BestBd   Gap | It/Node Time\n",
      "\n",
      "     0     0     cutoff    0        15.00000   15.00000  0.00%     -    0s\n",
      "\n",
      "Explored 1 nodes (5 simplex iterations) in 0.02 seconds (0.00 work units)\n",
      "Thread count was 8 (of 8 available processors)\n",
      "\n",
      "Solution count 1: 15 \n",
      "\n",
      "Optimal solution found (tolerance 1.00e-04)\n",
      "Best objective 1.500000000000e+01, best bound 1.500000000000e+01, gap 0.0000%\n",
      "optimized set up time 15.0 hours\n"
     ]
    }
   ],
   "source": [
    "for i in I:\n",
    "    m.addConstr(quicksum(x[i,j]for j in J)<=1)\n",
    "for j in J:\n",
    "    m.addConstr(quicksum(x[i,j]for i in I)>=1)\n",
    "m.optimize()\n",
    "print(\"optimized set up time\",m.ObjVal,\"hours\")"
   ]
  },
  {
   "cell_type": "code",
   "execution_count": 16,
   "metadata": {},
   "outputs": [
    {
     "name": "stdout",
     "output_type": "stream",
     "text": [
      "------------------------------\n",
      "machine : 0\n",
      "------------------------------\n",
      "jobs : 0 0.0\n",
      "jobs : 1 1.0\n",
      "jobs : 2 0.0\n",
      "jobs : 3 0.0\n",
      "------------------------------\n",
      "machine : 1\n",
      "------------------------------\n",
      "jobs : 0 0.0\n",
      "jobs : 1 0.0\n",
      "jobs : 2 0.0\n",
      "jobs : 3 1.0\n",
      "------------------------------\n",
      "machine : 2\n",
      "------------------------------\n",
      "jobs : 0 0.0\n",
      "jobs : 1 0.0\n",
      "jobs : 2 1.0\n",
      "jobs : 3 0.0\n",
      "------------------------------\n",
      "machine : 3\n",
      "------------------------------\n",
      "jobs : 0 1.0\n",
      "jobs : 1 0.0\n",
      "jobs : 2 0.0\n",
      "jobs : 3 0.0\n"
     ]
    }
   ],
   "source": [
    "for i in I:\n",
    "    print(\"-\"*30)\n",
    "    print(\"machine :\",i)\n",
    "    print(\"-\"*30)\n",
    "    for j in J:\n",
    "        print(\"jobs :\",j,x[i,j].x)\n"
   ]
  },
  {
   "cell_type": "code",
   "execution_count": null,
   "metadata": {},
   "outputs": [],
   "source": []
  }
 ],
 "metadata": {
  "interpreter": {
   "hash": "231ab6fb4617c63e5fc57e127f4151709fe11871019cabea4dce79a4c399e2bf"
  },
  "kernelspec": {
   "display_name": "Python 3.10.4 ('env': venv)",
   "language": "python",
   "name": "python3"
  },
  "language_info": {
   "codemirror_mode": {
    "name": "ipython",
    "version": 3
   },
   "file_extension": ".py",
   "mimetype": "text/x-python",
   "name": "python",
   "nbconvert_exporter": "python",
   "pygments_lexer": "ipython3",
   "version": "3.10.4"
  },
  "orig_nbformat": 4
 },
 "nbformat": 4,
 "nbformat_minor": 2
}
