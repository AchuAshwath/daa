{
 "cells": [
  {
   "cell_type": "code",
   "execution_count": 12,
   "metadata": {},
   "outputs": [],
   "source": [
    "def isSafe(mat, r, c):\n",
    "    for i in range(r):\n",
    "        if mat[i][c] == 'Q':\n",
    "            return False\n",
    "\n",
    "    (i, j) = (r, c)\n",
    "    while i >= 0 and j >= 0:\n",
    "        if mat[i][j] == 'Q':\n",
    "            return False\n",
    "        i = i - 1   \n",
    "        j = j - 1\n",
    "\n",
    "    (i, j) = (r, c)\n",
    "    while i >= 0 and j < len(mat):\n",
    "        if mat[i][j] == 'Q':\n",
    "            return False\n",
    "        i = i - 1\n",
    "        j = j + 1\n",
    "\n",
    "    return True"
   ]
  },
  {
   "cell_type": "code",
   "execution_count": 13,
   "metadata": {},
   "outputs": [],
   "source": [
    "def printSolution(mat):\n",
    "    for r in mat:\n",
    "        print(str(r).replace(',', '').replace('\\'', ''))\n",
    "    print()\n",
    "\n",
    "def nQueen(mat, r):\n",
    "    if r == len(mat):\n",
    "        printSolution(mat)\n",
    "        return\n",
    "\n",
    "    for i in range(len(mat)):\n",
    "        if isSafe(mat, r, i):\n",
    "            mat[r][i] = 'Q'\n",
    "            nQueen(mat, r + 1)\n",
    "            mat[r][i] = '-'\n"
   ]
  },
  {
   "cell_type": "code",
   "execution_count": 22,
   "metadata": {},
   "outputs": [
    {
     "name": "stdout",
     "output_type": "stream",
     "text": [
      "[- Q - -]\n",
      "[- - - Q]\n",
      "[Q - - -]\n",
      "[- - Q -]\n",
      "\n",
      "[- - Q -]\n",
      "[Q - - -]\n",
      "[- - - Q]\n",
      "[- Q - -]\n",
      "\n"
     ]
    }
   ],
   "source": [
    "N = 4\n",
    "mat = [['-' for x in range(N)] for y in range(N)]\n",
    "nQueen(mat, 0)"
   ]
  },
  {
   "cell_type": "code",
   "execution_count": null,
   "metadata": {},
   "outputs": [],
   "source": []
  }
 ],
 "metadata": {
  "interpreter": {
   "hash": "231ab6fb4617c63e5fc57e127f4151709fe11871019cabea4dce79a4c399e2bf"
  },
  "kernelspec": {
   "display_name": "Python 3.10.4 ('env': venv)",
   "language": "python",
   "name": "python3"
  },
  "language_info": {
   "codemirror_mode": {
    "name": "ipython",
    "version": 3
   },
   "file_extension": ".py",
   "mimetype": "text/x-python",
   "name": "python",
   "nbconvert_exporter": "python",
   "pygments_lexer": "ipython3",
   "version": "3.10.4"
  },
  "orig_nbformat": 4
 },
 "nbformat": 4,
 "nbformat_minor": 2
}
