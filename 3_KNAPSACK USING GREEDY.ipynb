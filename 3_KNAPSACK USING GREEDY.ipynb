{
 "cells": [
  {
   "cell_type": "code",
   "execution_count": 5,
   "metadata": {},
   "outputs": [
    {
     "name": "stdout",
     "output_type": "stream",
     "text": [
      "Maximum value in Knapsack = 240.0\n"
     ]
    }
   ],
   "source": [
    "class ItemValue:\n",
    "    def __init__(self, wt, val, ind):\n",
    "        self.wt = wt\n",
    "        self.val = val\n",
    "        self.ind = ind\n",
    "        self.cost = val // wt\n",
    "\n",
    "    def __lt__(self, other):\n",
    "        return self.cost < other.cost\n",
    "\n",
    "class FractionalKnapSack:\n",
    "    @staticmethod\n",
    "    def getMaxValue(wt, val, capacity):\n",
    "        iVal = []\n",
    "        for i in range(len(wt)):\n",
    "            iVal.append(ItemValue(wt[i], val[i], i))\n",
    "        iVal.sort(reverse=True)\n",
    "        totalValue = 0\n",
    "        for i in iVal:\n",
    "            curWt = int(i.wt)\n",
    "            curVal = int(i.val)\n",
    "            if capacity - curWt >= 0:\n",
    "                capacity -= curWt\n",
    "                totalValue += curVal\n",
    "            else:\n",
    "                fraction = capacity / curWt\n",
    "                totalValue += curVal * fraction\n",
    "                capacity = int(capacity - (curWt * fraction))\n",
    "                break\n",
    "        return totalValue\n",
    "\n",
    "wt = [10, 40, 20, 30]\n",
    "val = [60, 40, 100, 120]\n",
    "capacity = 50\n",
    "\n",
    "maxValue = FractionalKnapSack.getMaxValue(wt, val, capacity)\n",
    "print(\"Maximum value in Knapsack =\", maxValue)"
   ]
  }
 ],
 "metadata": {
  "interpreter": {
   "hash": "231ab6fb4617c63e5fc57e127f4151709fe11871019cabea4dce79a4c399e2bf"
  },
  "kernelspec": {
   "display_name": "Python 3.10.4 ('env': venv)",
   "language": "python",
   "name": "python3"
  },
  "language_info": {
   "codemirror_mode": {
    "name": "ipython",
    "version": 3
   },
   "file_extension": ".py",
   "mimetype": "text/x-python",
   "name": "python",
   "nbconvert_exporter": "python",
   "pygments_lexer": "ipython3",
   "version": "3.10.4"
  },
  "orig_nbformat": 4
 },
 "nbformat": 4,
 "nbformat_minor": 2
}
