{
 "cells": [
  {
   "cell_type": "code",
   "execution_count": 3,
   "metadata": {},
   "outputs": [],
   "source": [
    "def knapSack(W, wt, val):\n",
    "    n=len(val)\n",
    "    table = [[0 for x in range(W + 1)] for x in range(n + 1)]\n",
    "\n",
    "    for i in range(n + 1):\n",
    "        for j in range(W + 1):\n",
    "            if i == 0 or j == 0:\n",
    "                table[i][j] = 0\n",
    "            elif wt[i-1] <= j:\n",
    "                table[i][j] = max(val[i-1]+ table[i-1][j-wt[i-1]], table[i-1][j])\n",
    "            else:\n",
    "                table[i][j] = table[i-1][j]\n",
    "    return table[n][W]"
   ]
  },
  {
   "cell_type": "code",
   "execution_count": 4,
   "metadata": {},
   "outputs": [],
   "source": [
    "val = [50,100,150,200]\n",
    "wt = [8,16,32,40]\n",
    "W = 64"
   ]
  },
  {
   "cell_type": "code",
   "execution_count": 5,
   "metadata": {},
   "outputs": [
    {
     "name": "stdout",
     "output_type": "stream",
     "text": [
      "350\n"
     ]
    }
   ],
   "source": [
    "print(knapSack(W, wt, val))"
   ]
  }
 ],
 "metadata": {
  "interpreter": {
   "hash": "231ab6fb4617c63e5fc57e127f4151709fe11871019cabea4dce79a4c399e2bf"
  },
  "kernelspec": {
   "display_name": "Python 3.10.4 ('env': venv)",
   "language": "python",
   "name": "python3"
  },
  "language_info": {
   "codemirror_mode": {
    "name": "ipython",
    "version": 3
   },
   "file_extension": ".py",
   "mimetype": "text/x-python",
   "name": "python",
   "nbconvert_exporter": "python",
   "pygments_lexer": "ipython3",
   "version": "3.10.4"
  },
  "orig_nbformat": 4
 },
 "nbformat": 4,
 "nbformat_minor": 2
}
